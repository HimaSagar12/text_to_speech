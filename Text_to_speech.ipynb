{
 "cells": [
  {
   "cell_type": "code",
   "execution_count": 1,
   "metadata": {
    "scrolled": true
   },
   "outputs": [
    {
     "name": "stdout",
     "output_type": "stream",
     "text": [
      "Requirement already satisfied: gTTS in c:\\users\\hima sagar\\anaconda33\\lib\\site-packages (2.2.2)\n",
      "Requirement already satisfied: click in c:\\users\\hima sagar\\anaconda33\\lib\\site-packages (from gTTS) (7.0)\n",
      "Requirement already satisfied: six in c:\\users\\hima sagar\\anaconda33\\lib\\site-packages (from gTTS) (1.14.0)\n",
      "Requirement already satisfied: requests in c:\\users\\hima sagar\\anaconda33\\lib\\site-packages (from gTTS) (2.22.0)\n",
      "Requirement already satisfied: urllib3!=1.25.0,!=1.25.1,<1.26,>=1.21.1 in c:\\users\\hima sagar\\anaconda33\\lib\\site-packages (from requests->gTTS) (1.25.8)\n",
      "Requirement already satisfied: idna<2.9,>=2.5 in c:\\users\\hima sagar\\anaconda33\\lib\\site-packages (from requests->gTTS) (2.8)\n",
      "Requirement already satisfied: chardet<3.1.0,>=3.0.2 in c:\\users\\hima sagar\\anaconda33\\lib\\site-packages (from requests->gTTS) (3.0.4)\n",
      "Requirement already satisfied: certifi>=2017.4.17 in c:\\users\\hima sagar\\anaconda33\\lib\\site-packages (from requests->gTTS) (2019.11.28)\n",
      "Requirement already satisfied: playsound in c:\\users\\hima sagar\\anaconda33\\lib\\site-packages (1.2.2)\n",
      "Requirement already satisfied: opencv-python in c:\\users\\hima sagar\\anaconda33\\lib\\site-packages (4.5.2.52)\n",
      "Requirement already satisfied: numpy>=1.14.5 in c:\\users\\hima sagar\\anaconda33\\lib\\site-packages (from opencv-python) (1.18.1)\n",
      "Requirement already satisfied: pytesseract in c:\\users\\hima sagar\\anaconda33\\lib\\site-packages (0.3.7)\n",
      "Requirement already satisfied: Pillow in c:\\users\\hima sagar\\anaconda33\\lib\\site-packages (from pytesseract) (7.0.0)\n"
     ]
    }
   ],
   "source": [
    "!pip install gTTS\n",
    "!pip install playsound\n",
    "!pip install opencv-python\n",
    "!pip install pytesseract"
   ]
  },
  {
   "cell_type": "markdown",
   "metadata": {},
   "source": [
    "# functions"
   ]
  },
  {
   "cell_type": "code",
   "execution_count": 2,
   "metadata": {},
   "outputs": [],
   "source": [
    "from gtts import gTTS\n",
    "from playsound import playsound\n",
    "import matplotlib.image as img\n",
    "import pytesseract\n",
    "from tkinter import filedialog\n",
    "from tkinter import *"
   ]
  },
  {
   "cell_type": "markdown",
   "metadata": {},
   "source": [
    "# libraries and their use\n",
    "\n",
    "## gtts\n",
    "\n",
    "    gTTS (Google Text-to-Speech), a Python library and CLI tool to interface with Google Translate's text-to-speech API. Write spoken mp3 data to a file, a file-like object (bytestring) for further audio manipulation, or stdout. Or simply pre-generate Google Translate TTS request URLs to feed to an external program.\n",
    "\n",
    "Features\n",
    "\n",
    "==> Customizable speech-specific sentence tokenizer that allows for unlimited lengths of text to be read, all while keeping proper intonation, abbreviations, decimals and more;\n",
    "\n",
    "==>Customizable text pre-processors which can, for example, provide pronunciation corrections\n"
   ]
  },
  {
   "cell_type": "markdown",
   "metadata": {},
   "source": [
    "## playsound\n",
    "    \n",
    "    it is used to play any audio file"
   ]
  },
  {
   "cell_type": "markdown",
   "metadata": {},
   "source": [
    "# matplotlib.image\n",
    "\n",
    "\n",
    "Matplotlib is an amazing visualization library in Python for 2D plots of arrays. Matplotlib is a multi-platform data visualization library built on NumPy arrays and designed to work with the broader SciPy stack.\n",
    "\n",
    "Working with Images in Python using Matplotlib\n",
    "The image module in matplotlib library is used for working with images in Python. The image module also includes two useful methods which are imread which is used to read images and imshow which is used to display the image."
   ]
  },
  {
   "cell_type": "markdown",
   "metadata": {},
   "source": [
    "# pytesseract\n",
    "\n",
    "Python-tesseract is an optical character recognition (OCR) tool for python. That is, it will recognize and “read” the text embedded in images."
   ]
  },
  {
   "cell_type": "markdown",
   "metadata": {},
   "source": [
    "# tkinter\n",
    "\n",
    "Python-tesseract is an optical character recognition (OCR) tool for python. That is, it will recognize and “read” the text embedded in images."
   ]
  },
  {
   "cell_type": "code",
   "execution_count": 3,
   "metadata": {},
   "outputs": [],
   "source": [
    "def sem( him ):\n",
    "    tts = gTTS(him)\n",
    "    tts.save('hello.mp3')\n",
    "    playsound('hello.mp3')\n",
    "    import os\n",
    "    os.remove(\"hello.mp3\")"
   ]
  },
  {
   "cell_type": "code",
   "execution_count": 4,
   "metadata": {},
   "outputs": [],
   "source": [
    "def hm():\n",
    "    root = Tk()\n",
    "    root.filename =  filedialog.askopenfilename(initialdir = \"/\",title = \"Select file\",filetypes = ((\"jpeg files\",\"*.jpg\"),(\"all files\",\"*.*\")))\n",
    "    print (root.filename) #returns file path\n",
    "    from PIL import Image\n",
    "    from pytesseract import pytesseract\n",
    "    path_to_tesseract = r\"C:\\Program Files\\Tesseract-OCR\\tesseract.exe\"\n",
    "    image_path = root.filename\n",
    "    img = Image.open(image_path)\n",
    "    pytesseract.tesseract_cmd = path_to_tesseract\n",
    "    text = pytesseract.image_to_string(img)\n",
    "    print(text)\n",
    "    sem(text)"
   ]
  },
  {
   "cell_type": "code",
   "execution_count": 13,
   "metadata": {},
   "outputs": [
    {
     "name": "stdout",
     "output_type": "stream",
     "text": [
      "D:/docc/sa.PNG\n",
      "Google\n",
      "\f",
      "\n"
     ]
    }
   ],
   "source": [
    "hm()"
   ]
  },
  {
   "cell_type": "code",
   "execution_count": 6,
   "metadata": {},
   "outputs": [
    {
     "name": "stdout",
     "output_type": "stream",
     "text": [
      "Enter your value: <image>\n",
      "D:/docc/sa.PNG\n",
      "Google\n",
      "\f",
      "\n"
     ]
    }
   ],
   "source": [
    "val = input(\"Enter your value: \")\n",
    "if val[0:7] == '<speak>':\n",
    "    sem(val[7:])\n",
    "elif val[0:7] == '<image>':\n",
    "    hm()"
   ]
  },
  {
   "cell_type": "code",
   "execution_count": null,
   "metadata": {},
   "outputs": [],
   "source": []
  }
 ],
 "metadata": {
  "kernelspec": {
   "display_name": "Python 3",
   "language": "python",
   "name": "python3"
  },
  "language_info": {
   "codemirror_mode": {
    "name": "ipython",
    "version": 3
   },
   "file_extension": ".py",
   "mimetype": "text/x-python",
   "name": "python",
   "nbconvert_exporter": "python",
   "pygments_lexer": "ipython3",
   "version": "3.7.6"
  }
 },
 "nbformat": 4,
 "nbformat_minor": 4
}
